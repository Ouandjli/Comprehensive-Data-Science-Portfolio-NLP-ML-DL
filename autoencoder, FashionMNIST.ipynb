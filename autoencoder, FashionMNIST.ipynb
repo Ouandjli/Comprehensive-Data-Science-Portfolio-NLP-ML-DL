{
 "cells": [
  {
   "cell_type": "code",
   "execution_count": 11,
   "id": "653c4dd0-9c9c-45b9-a191-8f320464d011",
   "metadata": {},
   "outputs": [
    {
     "data": {
      "image/png": "[encoded data removed]",
      "text/plain": [
       "<Figure size 640x480 with 1 Axes>"
      ]
     },
     "metadata": {},
     "output_type": "display_data"
    },
    {
     "name": "stdout",
     "output_type": "stream",
     "text": [
      "Epoch 1/10\n",
      "\u001b[1m750/750\u001b[0m \u001b[32m━━━━━━━━━━━━━━━━━━━━\u001b[0m\u001b[37m\u001b[0m \u001b[1m74s\u001b[0m 93ms/step - accuracy: 0.6123 - loss: 0.0689 - val_accuracy: 0.6144 - val_loss: 0.0286\n",
      "Epoch 2/10\n",
      "\u001b[1m750/750\u001b[0m \u001b[32m━━━━━━━━━━━━━━━━━━━━\u001b[0m\u001b[37m\u001b[0m \u001b[1m55s\u001b[0m 73ms/step - accuracy: 0.6151 - loss: 0.0277 - val_accuracy: 0.6151 - val_loss: 0.0266\n",
      "Epoch 3/10\n",
      "\u001b[1m750/750\u001b[0m \u001b[32m━━━━━━━━━━━━━━━━━━━━\u001b[0m\u001b[37m\u001b[0m \u001b[1m50s\u001b[0m 66ms/step - accuracy: 0.6162 - loss: 0.0257 - val_accuracy: 0.6141 - val_loss: 0.0251\n",
      "Epoch 4/10\n",
      "\u001b[1m750/750\u001b[0m \u001b[32m━━━━━━━━━━━━━━━━━━━━\u001b[0m\u001b[37m\u001b[0m \u001b[1m82s\u001b[0m 66ms/step - accuracy: 0.6150 - loss: 0.0248 - val_accuracy: 0.6159 - val_loss: 0.0246\n",
      "Epoch 5/10\n",
      "\u001b[1m750/750\u001b[0m \u001b[32m━━━━━━━━━━━━━━━━━━━━\u001b[0m\u001b[37m\u001b[0m \u001b[1m48s\u001b[0m 64ms/step - accuracy: 0.6170 - loss: 0.0242 - val_accuracy: 0.6146 - val_loss: 0.0240\n",
      "Epoch 6/10\n",
      "\u001b[1m750/750\u001b[0m \u001b[32m━━━━━━━━━━━━━━━━━━━━\u001b[0m\u001b[37m\u001b[0m \u001b[1m83s\u001b[0m 66ms/step - accuracy: 0.6166 - loss: 0.0237 - val_accuracy: 0.6144 - val_loss: 0.0236\n",
      "Epoch 7/10\n",
      "\u001b[1m750/750\u001b[0m \u001b[32m━━━━━━━━━━━━━━━━━━━━\u001b[0m\u001b[37m\u001b[0m \u001b[1m55s\u001b[0m 73ms/step - accuracy: 0.6162 - loss: 0.0234 - val_accuracy: 0.6153 - val_loss: 0.0232\n",
      "Epoch 8/10\n",
      "\u001b[1m750/750\u001b[0m \u001b[32m━━━━━━━━━━━━━━━━━━━━\u001b[0m\u001b[37m\u001b[0m \u001b[1m55s\u001b[0m 74ms/step - accuracy: 0.6170 - loss: 0.0230 - val_accuracy: 0.6154 - val_loss: 0.0231\n",
      "Epoch 9/10\n",
      "\u001b[1m750/750\u001b[0m \u001b[32m━━━━━━━━━━━━━━━━━━━━\u001b[0m\u001b[37m\u001b[0m \u001b[1m77s\u001b[0m 66ms/step - accuracy: 0.6176 - loss: 0.0228 - val_accuracy: 0.6158 - val_loss: 0.0230\n",
      "Epoch 10/10\n",
      "\u001b[1m750/750\u001b[0m \u001b[32m━━━━━━━━━━━━━━━━━━━━\u001b[0m\u001b[37m\u001b[0m \u001b[1m51s\u001b[0m 68ms/step - accuracy: 0.6172 - loss: 0.0227 - val_accuracy: 0.6154 - val_loss: 0.0227\n",
      "\u001b[1m313/313\u001b[0m \u001b[32m━━━━━━━━━━━━━━━━━━━━\u001b[0m\u001b[37m\u001b[0m \u001b[1m5s\u001b[0m 15ms/step - accuracy: 0.6153 - loss: 0.0224\n",
      "Loss: 0.02258129045367241\n",
      "Accuracy: 0.6152071356773376\n"
     ]
    }
   ],
   "source": [
    "import numpy as np\n",
    "import matplotlib.pyplot as plt\n",
    "from keras.datasets import fashion_mnist\n",
    "from tensorflow.keras.models import Sequential\n",
    "from tensorflow.keras.utils import to_categorical\n",
    "from tensorflow.keras import layers, models\n",
    "import tensorflow as tf\n",
    "\n",
    "# Load and preprocess the Fashion MNIST dataset\n",
    "(x_train_fashion, y_train_fashion), (x_test_fashion, y_test_fashion) = fashion_mnist.load_data()\n",
    "\n",
    "# Normalize and adjust dimensions for Fashion MNIST\n",
    "def preprocess(imgs):\n",
    "    imgs = np.pad(imgs, ((0, 0), (2, 2), (2, 2)), 'constant', constant_values=0.0)\n",
    "    imgs = np.expand_dims(imgs, -1)  # Add channel dimension\n",
    "    return imgs / 255.0\n",
    "\n",
    "x_train_fashion = preprocess(x_train_fashion)\n",
    "x_test_fashion = preprocess(x_test_fashion)\n",
    "\n",
    "# One-hot encode Fashion MNIST labels\n",
    "y_train_fashion = to_categorical(y_train_fashion, 10)\n",
    "y_test_fashion = to_categorical(y_test_fashion, 10)\n",
    "\n",
    "# Display a Fashion MNIST image\n",
    "plt.imshow(x_train_fashion[0].reshape(32, 32), cmap='gray')\n",
    "plt.show()\n",
    "\n",
    "# Encoder structure\n",
    "image_size = 32\n",
    "channels = 1\n",
    "embedding_dim = 2\n",
    "\n",
    "encoder_input = layers.Input(shape=(image_size, image_size, channels), name=\"encoder_input\")\n",
    "x = layers.Conv2D(32, (3, 3), strides=2, activation='relu', padding='same')(encoder_input)\n",
    "x = layers.Conv2D(32, (3, 3), strides=2, activation='relu', padding='same')(x)\n",
    "x = layers.Conv2D(32, (3, 3), strides=2, activation='relu', padding='same')(x)\n",
    "\n",
    "# Flatten and Dense layer for embedding\n",
    "shape_before_flattening = tf.keras.backend.int_shape(x)\n",
    "x = layers.Flatten()(x)\n",
    "encoder_output = layers.Dense(embedding_dim, name=\"encoder_output\")(x)\n",
    "encoder = models.Model(encoder_input, encoder_output, name=\"encoder\")\n",
    "\n",
    "# Decoder structure\n",
    "decoder_input = layers.Input(shape=(embedding_dim,), name=\"decoder_input\")\n",
    "x = layers.Dense(np.prod(shape_before_flattening[1:]), activation='relu')(decoder_input)\n",
    "x = layers.Reshape(shape_before_flattening[1:])(x)\n",
    "x = layers.Conv2DTranspose(32, (3, 3), strides=2, activation='relu', padding='same')(x)\n",
    "x = layers.Conv2DTranspose(32, (3, 3), strides=2, activation='relu', padding='same')(x)\n",
    "x = layers.Conv2DTranspose(32, (3, 3), strides=2, activation='relu', padding='same')(x)\n",
    "decoder_output = layers.Conv2DTranspose(channels, (3, 3), activation='sigmoid', padding='same', name='decoder_output')(x)\n",
    "decoder = models.Model(decoder_input, decoder_output, name=\"decoder\")\n",
    "\n",
    "# Full autoencoder model\n",
    "autoencoder_input = encoder_input\n",
    "autoencoder_output = decoder(encoder_output)\n",
    "autoencoder = models.Model(autoencoder_input, autoencoder_output, name=\"autoencoder\")\n",
    "\n",
    "# Compile the autoencoder\n",
    "autoencoder.compile(optimizer='adam', loss='mse', metrics=['accuracy'])\n",
    "\n",
    "# Train the autoencoder\n",
    "autoencoder.fit(x_train_fashion, x_train_fashion, epochs=10, batch_size=64, validation_split=0.2)\n",
    "\n",
    "# Evaluate autoencoder on test data\n",
    "loss, accuracy = autoencoder.evaluate(x_test_fashion, x_test_fashion)\n",
    "print(f'Loss: {loss}')\n",
    "print(f'Accuracy: {accuracy}')"
   ]
  }
 ],
 "metadata": {
  "kernelspec": {
   "display_name": "Python 3 (ipykernel)",
   "language": "python",
   "name": "python3"
  },
  "language_info": {
   "codemirror_mode": {
    "name": "ipython",
    "version": 3
   },
   "file_extension": ".py",
   "mimetype": "text/x-python",
   "name": "python",
   "nbconvert_exporter": "python",
   "pygments_lexer": "ipython3",
   "version": "3.12.2"
  },
  "widgets": {
   "application/vnd.jupyter.widget-state+json": {
    "state": {},
    "version_major": 2,
    "version_minor": 0
   }
  }
 },
 "nbformat": 4,
 "nbformat_minor": 5
}
